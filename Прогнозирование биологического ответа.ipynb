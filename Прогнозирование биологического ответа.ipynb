{
 "cells": [
  {
   "cell_type": "markdown",
   "metadata": {},
   "source": [
    "# Прогнозирование биологического ответа"
   ]
  },
  {
   "cell_type": "markdown",
   "metadata": {},
   "source": [
    "Необходимо предсказать биологический ответ молекул (столбец 'Activity') по их химическому составу (столбцы D1-D1776)."
   ]
  },
  {
   "cell_type": "markdown",
   "metadata": {},
   "source": [
    "Данные представлены в формате CSV.  Каждая строка представляет молекулу. \n",
    "\n",
    "- Первый столбец Activity содержит экспериментальные данные, описывающие фактический биологический ответ [0, 1]; \n",
    "\n",
    "- Остальные столбцы D1-D1776 представляют собой молекулярные дескрипторы — это вычисляемые свойства, которые могут фиксировать некоторые характеристики молекулы, например размер, форму или состав элементов."
   ]
  },
  {
   "cell_type": "markdown",
   "metadata": {},
   "source": [
    "Предварительная обработка не требуется, данные уже закодированы и нормализованы.\n",
    "\n",
    "В качестве метрики будем использовать F1-score.\n",
    "\n",
    "Необходимо обучить две модели: логистическую регрессию и случайный лес. Далее нужно сделать подбор гиперпараметров с помощью базовых и продвинутых методов оптимизации. Важно использовать все четыре метода (GridSeachCV, RandomizedSearchCV, Hyperopt, Optuna) хотя бы по разу, максимальное количество итераций не должно превышать 50."
   ]
  },
  {
   "cell_type": "code",
   "execution_count": 2,
   "metadata": {},
   "outputs": [],
   "source": [
    "#импорт библиотек\n",
    "import numpy as np #для матричных вычислений\n",
    "import pandas as pd #для анализа и предобработки данных\n",
    "import matplotlib.pyplot as plt #для визуализации\n",
    "import seaborn as sns #для визуализации\n",
    "\n",
    "from sklearn import linear_model #линейные моделиё\n",
    "from sklearn import tree #деревья решений\n",
    "from sklearn import ensemble #ансамбли\n",
    "from sklearn import metrics #метрики\n",
    "from sklearn import preprocessing #предобработка\n",
    "from sklearn.model_selection import train_test_split #сплитование выборки\n",
    "\n",
    "#%matplotlib inline\n",
    "# plt.style.use('seaborn')"
   ]
  },
  {
   "cell_type": "markdown",
   "metadata": {},
   "source": [
    "## Базовая оптимизация"
   ]
  },
  {
   "cell_type": "markdown",
   "metadata": {},
   "source": [
    "### Знакомство с данными и их исследование"
   ]
  },
  {
   "cell_type": "code",
   "execution_count": 9,
   "metadata": {},
   "outputs": [
    {
     "data": {
      "text/html": [
       "<div>\n",
       "<style scoped>\n",
       "    .dataframe tbody tr th:only-of-type {\n",
       "        vertical-align: middle;\n",
       "    }\n",
       "\n",
       "    .dataframe tbody tr th {\n",
       "        vertical-align: top;\n",
       "    }\n",
       "\n",
       "    .dataframe thead th {\n",
       "        text-align: right;\n",
       "    }\n",
       "</style>\n",
       "<table border=\"1\" class=\"dataframe\">\n",
       "  <thead>\n",
       "    <tr style=\"text-align: right;\">\n",
       "      <th></th>\n",
       "      <th>Activity</th>\n",
       "      <th>D1</th>\n",
       "      <th>D2</th>\n",
       "      <th>D3</th>\n",
       "      <th>D4</th>\n",
       "      <th>D5</th>\n",
       "      <th>D6</th>\n",
       "      <th>D7</th>\n",
       "      <th>D8</th>\n",
       "      <th>D9</th>\n",
       "      <th>...</th>\n",
       "      <th>D1767</th>\n",
       "      <th>D1768</th>\n",
       "      <th>D1769</th>\n",
       "      <th>D1770</th>\n",
       "      <th>D1771</th>\n",
       "      <th>D1772</th>\n",
       "      <th>D1773</th>\n",
       "      <th>D1774</th>\n",
       "      <th>D1775</th>\n",
       "      <th>D1776</th>\n",
       "    </tr>\n",
       "  </thead>\n",
       "  <tbody>\n",
       "    <tr>\n",
       "      <th>0</th>\n",
       "      <td>1</td>\n",
       "      <td>0.000000</td>\n",
       "      <td>0.497009</td>\n",
       "      <td>0.10</td>\n",
       "      <td>0.0</td>\n",
       "      <td>0.132956</td>\n",
       "      <td>0.678031</td>\n",
       "      <td>0.273166</td>\n",
       "      <td>0.585445</td>\n",
       "      <td>0.743663</td>\n",
       "      <td>...</td>\n",
       "      <td>0</td>\n",
       "      <td>0</td>\n",
       "      <td>0</td>\n",
       "      <td>0</td>\n",
       "      <td>0</td>\n",
       "      <td>0</td>\n",
       "      <td>0</td>\n",
       "      <td>0</td>\n",
       "      <td>0</td>\n",
       "      <td>0</td>\n",
       "    </tr>\n",
       "    <tr>\n",
       "      <th>1</th>\n",
       "      <td>1</td>\n",
       "      <td>0.366667</td>\n",
       "      <td>0.606291</td>\n",
       "      <td>0.05</td>\n",
       "      <td>0.0</td>\n",
       "      <td>0.111209</td>\n",
       "      <td>0.803455</td>\n",
       "      <td>0.106105</td>\n",
       "      <td>0.411754</td>\n",
       "      <td>0.836582</td>\n",
       "      <td>...</td>\n",
       "      <td>1</td>\n",
       "      <td>1</td>\n",
       "      <td>1</td>\n",
       "      <td>1</td>\n",
       "      <td>0</td>\n",
       "      <td>1</td>\n",
       "      <td>0</td>\n",
       "      <td>0</td>\n",
       "      <td>1</td>\n",
       "      <td>0</td>\n",
       "    </tr>\n",
       "    <tr>\n",
       "      <th>2</th>\n",
       "      <td>1</td>\n",
       "      <td>0.033300</td>\n",
       "      <td>0.480124</td>\n",
       "      <td>0.00</td>\n",
       "      <td>0.0</td>\n",
       "      <td>0.209791</td>\n",
       "      <td>0.610350</td>\n",
       "      <td>0.356453</td>\n",
       "      <td>0.517720</td>\n",
       "      <td>0.679051</td>\n",
       "      <td>...</td>\n",
       "      <td>0</td>\n",
       "      <td>0</td>\n",
       "      <td>0</td>\n",
       "      <td>0</td>\n",
       "      <td>0</td>\n",
       "      <td>0</td>\n",
       "      <td>0</td>\n",
       "      <td>0</td>\n",
       "      <td>0</td>\n",
       "      <td>0</td>\n",
       "    </tr>\n",
       "    <tr>\n",
       "      <th>3</th>\n",
       "      <td>1</td>\n",
       "      <td>0.000000</td>\n",
       "      <td>0.538825</td>\n",
       "      <td>0.00</td>\n",
       "      <td>0.5</td>\n",
       "      <td>0.196344</td>\n",
       "      <td>0.724230</td>\n",
       "      <td>0.235606</td>\n",
       "      <td>0.288764</td>\n",
       "      <td>0.805110</td>\n",
       "      <td>...</td>\n",
       "      <td>0</td>\n",
       "      <td>0</td>\n",
       "      <td>0</td>\n",
       "      <td>0</td>\n",
       "      <td>0</td>\n",
       "      <td>0</td>\n",
       "      <td>0</td>\n",
       "      <td>0</td>\n",
       "      <td>0</td>\n",
       "      <td>0</td>\n",
       "    </tr>\n",
       "  </tbody>\n",
       "</table>\n",
       "<p>4 rows × 1777 columns</p>\n",
       "</div>"
      ],
      "text/plain": [
       "   Activity        D1        D2    D3   D4        D5        D6        D7  \\\n",
       "0         1  0.000000  0.497009  0.10  0.0  0.132956  0.678031  0.273166   \n",
       "1         1  0.366667  0.606291  0.05  0.0  0.111209  0.803455  0.106105   \n",
       "2         1  0.033300  0.480124  0.00  0.0  0.209791  0.610350  0.356453   \n",
       "3         1  0.000000  0.538825  0.00  0.5  0.196344  0.724230  0.235606   \n",
       "\n",
       "         D8        D9  ...  D1767  D1768  D1769  D1770  D1771  D1772  D1773  \\\n",
       "0  0.585445  0.743663  ...      0      0      0      0      0      0      0   \n",
       "1  0.411754  0.836582  ...      1      1      1      1      0      1      0   \n",
       "2  0.517720  0.679051  ...      0      0      0      0      0      0      0   \n",
       "3  0.288764  0.805110  ...      0      0      0      0      0      0      0   \n",
       "\n",
       "   D1774  D1775  D1776  \n",
       "0      0      0      0  \n",
       "1      0      1      0  \n",
       "2      0      0      0  \n",
       "3      0      0      0  \n",
       "\n",
       "[4 rows x 1777 columns]"
      ]
     },
     "execution_count": 9,
     "metadata": {},
     "output_type": "execute_result"
    }
   ],
   "source": [
    "# Загрузка данных\n",
    "data = pd.read_csv('data/_train_sem09 (1).csv')\n",
    "data.head(4)\n"
   ]
  },
  {
   "cell_type": "markdown",
   "metadata": {},
   "source": [
    "Создаем матрицу наблюдений $X$ и вектор ответов $y$"
   ]
  },
  {
   "cell_type": "code",
   "execution_count": null,
   "metadata": {},
   "outputs": [
    {
     "data": {
      "text/html": [
       "<div>\n",
       "<style scoped>\n",
       "    .dataframe tbody tr th:only-of-type {\n",
       "        vertical-align: middle;\n",
       "    }\n",
       "\n",
       "    .dataframe tbody tr th {\n",
       "        vertical-align: top;\n",
       "    }\n",
       "\n",
       "    .dataframe thead th {\n",
       "        text-align: right;\n",
       "    }\n",
       "</style>\n",
       "<table border=\"1\" class=\"dataframe\">\n",
       "  <thead>\n",
       "    <tr style=\"text-align: right;\">\n",
       "      <th></th>\n",
       "      <th>D1</th>\n",
       "      <th>D1776</th>\n",
       "    </tr>\n",
       "  </thead>\n",
       "  <tbody>\n",
       "    <tr>\n",
       "      <th>0</th>\n",
       "      <td>0.000000</td>\n",
       "      <td>0</td>\n",
       "    </tr>\n",
       "    <tr>\n",
       "      <th>1</th>\n",
       "      <td>0.366667</td>\n",
       "      <td>0</td>\n",
       "    </tr>\n",
       "    <tr>\n",
       "      <th>2</th>\n",
       "      <td>0.033300</td>\n",
       "      <td>0</td>\n",
       "    </tr>\n",
       "    <tr>\n",
       "      <th>3</th>\n",
       "      <td>0.000000</td>\n",
       "      <td>0</td>\n",
       "    </tr>\n",
       "  </tbody>\n",
       "</table>\n",
       "</div>"
      ],
      "text/plain": [
       "         D1  D1776\n",
       "0  0.000000      0\n",
       "1  0.366667      0\n",
       "2  0.033300      0\n",
       "3  0.000000      0"
      ]
     },
     "metadata": {},
     "output_type": "display_data"
    },
    {
     "data": {
      "text/plain": [
       "0    1\n",
       "1    1\n",
       "2    1\n",
       "3    1\n",
       "Name: Activity, dtype: int64"
      ]
     },
     "metadata": {},
     "output_type": "display_data"
    }
   ],
   "source": [
    "# Создаём новый датафрейм только с нужными столбцами\n",
    "# X = data.iloc[:, [1, -1]]  # Дескрипторы D1-D1776\n",
    "X = data[['D1', 'D1776']] # Дескрипторы D1-D1776\n",
    "y = data['Activity']  # Целевая переменная\n",
    "\n",
    "display(X.head(4))\n",
    "display(y.head(4))"
   ]
  },
  {
   "cell_type": "markdown",
   "metadata": {},
   "source": [
    "Разделяем выборку на тренировочную и тестовую в соотношении 80/20. Для сохранения соотношений целевого признака используем параметр stratify (стратифицированное разбиение). "
   ]
  },
  {
   "cell_type": "code",
   "execution_count": 16,
   "metadata": {},
   "outputs": [],
   "source": [
    "X_train, X_test, y_train, y_test = train_test_split(X, y, stratify=y, random_state = 42, test_size = 0.2)"
   ]
  },
  {
   "cell_type": "markdown",
   "metadata": {},
   "source": [
    "#### **Логистическая регрессия**"
   ]
  },
  {
   "cell_type": "markdown",
   "metadata": {},
   "source": [
    "Сначала посчитаем модель с параметрами по умолчанию и оценим метрику:"
   ]
  },
  {
   "cell_type": "code",
   "execution_count": 63,
   "metadata": {},
   "outputs": [
    {
     "name": "stdout",
     "output_type": "stream",
     "text": [
      "f1_score на тренировочным наборе: 0.69\n",
      "f1_score на тестовом наборе: 0.69\n"
     ]
    }
   ],
   "source": [
    "#Создаем объект класса логистическая регрессия\n",
    "log_reg = linear_model.LogisticRegression(max_iter = 1000)\n",
    "\n",
    "#Обучаем модель, минимизируя logloss\n",
    "log_reg.fit(X_train, y_train)\n",
    "\n",
    "#Делаем предсказание для тренировочной выборки\n",
    "y_train_predict = log_reg.predict(X_train)\n",
    "#Делаем предсказание для тестовой выборки\n",
    "y_test_predict = log_reg.predict(X_test)\n",
    " \n",
    "print('f1_score на тренировочным наборе: {:.2f}'.format(metrics.f1_score(y_train, y_train_predict)))\n",
    "print('f1_score на тестовом наборе: {:.2f}'.format(metrics.f1_score(y_test, y_test_predict)))"
   ]
  },
  {
   "cell_type": "markdown",
   "metadata": {},
   "source": [
    "### Логистическая регрессия с GridSearchCV"
   ]
  },
  {
   "cell_type": "code",
   "execution_count": 64,
   "metadata": {},
   "outputs": [
    {
     "name": "stdout",
     "output_type": "stream",
     "text": [
      "CPU times: total: 625 ms\n",
      "Wall time: 25.7 s\n",
      "f1_score на тренировочным наборе: 0.70\n",
      "f1_score на тестовом наборе: 0.70\n",
      "Наилучшие значения гиперпараметров: {'C': 0.7, 'penalty': 'l2', 'solver': 'lbfgs'}\n"
     ]
    },
    {
     "name": "stderr",
     "output_type": "stream",
     "text": [
      "c:\\Users\\alexD\\AppData\\Local\\Programs\\Python\\Python311\\Lib\\site-packages\\sklearn\\model_selection\\_validation.py:540: FitFailedWarning: \n",
      "70 fits failed out of a total of 140.\n",
      "The score on these train-test partitions for these parameters will be set to nan.\n",
      "If these failures are not expected, you can try to debug them by setting error_score='raise'.\n",
      "\n",
      "Below are more details about the failures:\n",
      "--------------------------------------------------------------------------------\n",
      "35 fits failed with the following error:\n",
      "Traceback (most recent call last):\n",
      "  File \"c:\\Users\\alexD\\AppData\\Local\\Programs\\Python\\Python311\\Lib\\site-packages\\sklearn\\model_selection\\_validation.py\", line 888, in _fit_and_score\n",
      "    estimator.fit(X_train, y_train, **fit_params)\n",
      "  File \"c:\\Users\\alexD\\AppData\\Local\\Programs\\Python\\Python311\\Lib\\site-packages\\sklearn\\base.py\", line 1466, in wrapper\n",
      "    estimator._validate_params()\n",
      "  File \"c:\\Users\\alexD\\AppData\\Local\\Programs\\Python\\Python311\\Lib\\site-packages\\sklearn\\base.py\", line 666, in _validate_params\n",
      "    validate_parameter_constraints(\n",
      "  File \"c:\\Users\\alexD\\AppData\\Local\\Programs\\Python\\Python311\\Lib\\site-packages\\sklearn\\utils\\_param_validation.py\", line 95, in validate_parameter_constraints\n",
      "    raise InvalidParameterError(\n",
      "sklearn.utils._param_validation.InvalidParameterError: The 'penalty' parameter of LogisticRegression must be a str among {'elasticnet', 'l2', 'l1'} or None. Got 'none' instead.\n",
      "\n",
      "--------------------------------------------------------------------------------\n",
      "35 fits failed with the following error:\n",
      "Traceback (most recent call last):\n",
      "  File \"c:\\Users\\alexD\\AppData\\Local\\Programs\\Python\\Python311\\Lib\\site-packages\\sklearn\\model_selection\\_validation.py\", line 888, in _fit_and_score\n",
      "    estimator.fit(X_train, y_train, **fit_params)\n",
      "  File \"c:\\Users\\alexD\\AppData\\Local\\Programs\\Python\\Python311\\Lib\\site-packages\\sklearn\\base.py\", line 1466, in wrapper\n",
      "    estimator._validate_params()\n",
      "  File \"c:\\Users\\alexD\\AppData\\Local\\Programs\\Python\\Python311\\Lib\\site-packages\\sklearn\\base.py\", line 666, in _validate_params\n",
      "    validate_parameter_constraints(\n",
      "  File \"c:\\Users\\alexD\\AppData\\Local\\Programs\\Python\\Python311\\Lib\\site-packages\\sklearn\\utils\\_param_validation.py\", line 95, in validate_parameter_constraints\n",
      "    raise InvalidParameterError(\n",
      "sklearn.utils._param_validation.InvalidParameterError: The 'penalty' parameter of LogisticRegression must be a str among {'elasticnet', 'l1', 'l2'} or None. Got 'none' instead.\n",
      "\n",
      "  warnings.warn(some_fits_failed_message, FitFailedWarning)\n",
      "c:\\Users\\alexD\\AppData\\Local\\Programs\\Python\\Python311\\Lib\\site-packages\\sklearn\\model_selection\\_search.py:1052: UserWarning: One or more of the test scores are non-finite: [0.54233333 0.54233333        nan        nan 0.544      0.544\n",
      "        nan        nan 0.54566667 0.54566667        nan        nan\n",
      " 0.55066667 0.55066667        nan        nan 0.55233333 0.55233333\n",
      "        nan        nan 0.55166667 0.55166667        nan        nan\n",
      " 0.55166667 0.55166667        nan        nan]\n",
      "  warnings.warn(\n"
     ]
    }
   ],
   "source": [
    "from sklearn.model_selection import GridSearchCV\n",
    "\n",
    "param_grid = [\n",
    "              {'penalty': ['l2', 'none'] , # тип регуляризации\n",
    "              'solver': ['lbfgs', 'sag'], # алгоритм оптимизации\n",
    "               'C': [0.01, 0.1, 0.3, 0.5, 0.7, 0.9, 1]}, # уровень силы регурялизации\n",
    "]\n",
    "grid_search = GridSearchCV(\n",
    "    estimator=linear_model.LogisticRegression(random_state=42, max_iter=1000), \n",
    "    param_grid=param_grid, \n",
    "    cv=5, \n",
    "    n_jobs = -1\n",
    ")  \n",
    "%time grid_search.fit(X_train, y_train) \n",
    "\n",
    "#Делаем предсказание для тренировочной выборки\n",
    "y_train_pred = grid_search.predict(X_train)\n",
    "#Делаем предсказание для тестовой выборки\n",
    "y_test_pred = grid_search.predict(X_test)\n",
    " \n",
    "print('f1_score на тренировочным наборе: {:.2f}'.format(metrics.f1_score(y_train, y_train_pred)))\n",
    "print('f1_score на тестовом наборе: {:.2f}'.format(metrics.f1_score(y_test, y_test_pred)))\n",
    "print(\"Наилучшие значения гиперпараметров: {}\".format(grid_search.best_params_))"
   ]
  },
  {
   "cell_type": "markdown",
   "metadata": {},
   "source": [
    "Ознакомиться с итоговой полученной моделью можно с помощью best_estimator_. "
   ]
  },
  {
   "cell_type": "code",
   "execution_count": 26,
   "metadata": {},
   "outputs": [
    {
     "name": "stdout",
     "output_type": "stream",
     "text": [
      "Наилучшая модель:\n",
      "LogisticRegression(C=0.7, max_iter=1000, random_state=42)\n"
     ]
    }
   ],
   "source": [
    "print(\"Наилучшая модель:\\n{}\".format(grid_search.best_estimator_))"
   ]
  },
  {
   "cell_type": "markdown",
   "metadata": {},
   "source": [
    "А наилучшее значение точности кросс-валидации (значение точности, усредненное по всем разбиениям для данной комбинации гиперпараметров) – в атрибуте best_score_. "
   ]
  },
  {
   "cell_type": "code",
   "execution_count": 28,
   "metadata": {},
   "outputs": [
    {
     "name": "stdout",
     "output_type": "stream",
     "text": [
      "Наилучшее значение точности при кросс-валидаци: 0.55\n"
     ]
    }
   ],
   "source": [
    "print(\"Наилучшее значение точности при кросс-валидаци: {:.2f}\".format(grid_search.best_score_))"
   ]
  },
  {
   "cell_type": "markdown",
   "metadata": {},
   "source": [
    "*Вывод*\n",
    "\n",
    "**Метрику удалось улучшить!**\n",
    "\n",
    "Использование GridSearchCV помогает найти оптимальные гиперпараметры для модели логистической регрессии. Благодаря этому можно значительно улучшить производительность модели.\n",
    "\n",
    "Это означает, что оптимальная модель логистической регрессии была найдена с:\n",
    "\n",
    "- Параметром регуляризации C = 0.7 (умеренная регуляризация);\n",
    "- Регуляризацией типа l2 (Ridge-регуляризация);\n",
    "- Использованием алгоритма оптимизации lbfgs (Limited-memory BFGS – эффективный алгоритм для задач с большим числом параметров).\n"
   ]
  },
  {
   "cell_type": "markdown",
   "metadata": {},
   "source": [
    "#### **Случайный лес**"
   ]
  },
  {
   "cell_type": "markdown",
   "metadata": {},
   "source": [
    "Проделаем аналогичное для RandomForestClassifier().\n",
    "Сначала посчитаем модель с параметрами по умолчанию и оценим метрику:"
   ]
  },
  {
   "cell_type": "code",
   "execution_count": 65,
   "metadata": {},
   "outputs": [
    {
     "name": "stdout",
     "output_type": "stream",
     "text": [
      "f1_score на тренировочным наборе: 0.65\n",
      "f1_score на тестовом наборе: 0.64\n"
     ]
    }
   ],
   "source": [
    "#Создаем объект класса случайный лес\n",
    "rfc = ensemble.RandomForestClassifier(random_state=42)\n",
    "\n",
    "#Обучаем модель\n",
    "rfc.fit(X_train, y_train)\n",
    "\n",
    "#Делаем предсказание для тренировочной выборки\n",
    "y_train_predict = rfc.predict(X_train)\n",
    "#Делаем предсказание для тестовой выборки\n",
    "y_test_predict = rfc.predict(X_test)\n",
    " \n",
    "print('f1_score на тренировочным наборе: {:.2f}'.format(metrics.f1_score(y_train, y_train_predict)))\n",
    "print('f1_score на тестовом наборе: {:.2f}'.format(metrics.f1_score(y_test, y_test_predict)))"
   ]
  },
  {
   "cell_type": "markdown",
   "metadata": {},
   "source": [
    "### Случайный лес с RandomizedSearchCV"
   ]
  },
  {
   "cell_type": "code",
   "execution_count": 31,
   "metadata": {},
   "outputs": [],
   "source": [
    "from sklearn.model_selection import RandomizedSearchCV"
   ]
  },
  {
   "cell_type": "code",
   "execution_count": 66,
   "metadata": {},
   "outputs": [
    {
     "name": "stdout",
     "output_type": "stream",
     "text": [
      "CPU times: total: 703 ms\n",
      "Wall time: 23.6 s\n",
      "f1_score на тренировочным наборе: 0.70\n",
      "f1_score на тестовом наборе: 0.70\n",
      "Наилучшие значения гиперпараметров: {'n_estimators': 110, 'min_samples_leaf': 5, 'max_depth': 26}\n"
     ]
    }
   ],
   "source": [
    "param_distributions = {'n_estimators': list(range(80, 200, 30)),\n",
    "              'min_samples_leaf': [5],\n",
    "              'max_depth': list(np.linspace(20, 40, 10, dtype=int))\n",
    "              }\n",
    "            \n",
    "random_search_forest = RandomizedSearchCV(\n",
    "    estimator=ensemble.RandomForestClassifier(random_state=42), \n",
    "    param_distributions=param_distributions, \n",
    "    cv=5,\n",
    "    n_iter = 10, \n",
    "    n_jobs = -1\n",
    ")  \n",
    "%time random_search_forest.fit(X_train, y_train) \n",
    "\n",
    "#Делаем предсказание для тренировочной выборки\n",
    "y_train_predic = random_search_forest.predict(X_train)\n",
    "#Делаем предсказание для тестовой выборки\n",
    "y_test_predic = random_search_forest.predict(X_test)\n",
    " \n",
    "print('f1_score на тренировочным наборе: {:.2f}'.format(metrics.f1_score(y_train, y_train_predic)))\n",
    "print('f1_score на тестовом наборе: {:.2f}'.format(metrics.f1_score(y_test, y_test_predic)))\n",
    "print(\"Наилучшие значения гиперпараметров: {}\".format(random_search_forest.best_params_))"
   ]
  },
  {
   "cell_type": "markdown",
   "metadata": {},
   "source": [
    "*Вывод*\n",
    "\n",
    "**Метрику удалось улучшить!**\n",
    "\n",
    "Использование  RandomizedSearchCV помогает найти оптимальные гиперпараметры для модели Случайный лес. Благодаря этому можно значительно улучшить производительность модели.\n",
    "\n",
    "Это означает, что оптимальная модель Случайный лес была найдена с:\n",
    "\n",
    "- n_estimators=  110;\n",
    "- min_samples_leaf = 5;\n",
    "- max_depth =  35."
   ]
  },
  {
   "cell_type": "markdown",
   "metadata": {},
   "source": [
    "##  Продвинутая оптимизация"
   ]
  },
  {
   "cell_type": "markdown",
   "metadata": {},
   "source": [
    "### Случайный лес с Hyperopt"
   ]
  },
  {
   "cell_type": "code",
   "execution_count": 67,
   "metadata": {},
   "outputs": [],
   "source": [
    "#делаем импорт и выведем версию библиотеки\n",
    "from sklearn.model_selection import cross_val_score\n",
    "import hyperopt\n",
    "from hyperopt import hp, fmin, tpe, Trials\n",
    "# fmin - основная функция, она будет минимизировать наш функционал\n",
    "# tpe - алгоритм оптимизации\n",
    "# hp - включает набор методов для объявления пространства поиска гиперпараметров\n",
    "# trails - используется для логирования результатов"
   ]
  },
  {
   "cell_type": "markdown",
   "metadata": {},
   "source": [
    "Настроим оптимизацию гиперпараметров для алгоритма случайного леса."
   ]
  },
  {
   "cell_type": "code",
   "execution_count": 68,
   "metadata": {},
   "outputs": [],
   "source": [
    "# зададим пространство поиска гиперпараметров\n",
    "space={'n_estimators': hp.quniform('n_estimators', 100, 200, 1),\n",
    "       'max_depth' : hp.quniform('max_depth', 15, 26, 1),\n",
    "       'min_samples_leaf': hp.quniform('min_samples_leaf', 2, 10, 1)\n",
    "      }"
   ]
  },
  {
   "cell_type": "markdown",
   "metadata": {},
   "source": [
    "Интерфейс hyperopt отличается от Grid или RandomizedSearch, поэтому нам нужно создать функцию для минимизации, она должна принимать словарь значений гиперпараметров и возвращать значение целевой функции."
   ]
  },
  {
   "cell_type": "code",
   "execution_count": 69,
   "metadata": {},
   "outputs": [],
   "source": [
    "# зафксируем random_state\n",
    "random_state = 42\n",
    "def hyperopt_rfc(params, cv=5, X=X_train, y=y_train, random_state=random_state):\n",
    "    # функция получает комбинацию гиперпараметров в \"params\"\n",
    "    params = {'n_estimators': int(params['n_estimators']), \n",
    "              'max_depth': int(params['max_depth']), \n",
    "             'min_samples_leaf': int(params['min_samples_leaf'])\n",
    "              }\n",
    "  \n",
    "    # используем эту комбинацию для построения модели\n",
    "    model = ensemble.RandomForestClassifier(**params, random_state=random_state)\n",
    "\n",
    "    # обучаем модель\n",
    "    model.fit(X, y)\n",
    "    score = metrics.f1_score(y, model.predict(X))\n",
    "    \n",
    "    # обучать модель можно также с помощью кросс-валидации\n",
    "    # применим  cross validation с тем же количеством фолдов\n",
    "    # score = cross_val_score(model, X, y, cv=cv, scoring=\"f1\", n_jobs=-1).mean()\n",
    "\n",
    "    # метрику необходимо минимизировать, поэтому ставим знак минус\n",
    "    return -score"
   ]
  },
  {
   "cell_type": "code",
   "execution_count": 70,
   "metadata": {},
   "outputs": [
    {
     "name": "stdout",
     "output_type": "stream",
     "text": [
      "100%|██████████| 20/20 [00:21<00:00,  1.07s/trial, best loss: -0.7008316475612497]\n",
      "Наилучшие значения гиперпараметров {'max_depth': 19.0, 'min_samples_leaf': 3.0, 'n_estimators': 132.0}\n",
      "CPU times: total: 12.5 s\n",
      "Wall time: 21.4 s\n"
     ]
    }
   ],
   "source": [
    "%%time\n",
    "# начинаем подбор гиперпараметров\n",
    "\n",
    "trials = Trials() # используется для логирования результатов\n",
    "\n",
    "best=fmin(hyperopt_rfc, # наша функция \n",
    "          space=space, # пространство гиперпараметров\n",
    "          algo=tpe.suggest, # алгоритм оптимизации, установлен по умолчанию, задавать необязательно\n",
    "          max_evals=20, # максимальное количество итераций\n",
    "          trials=trials, # логирование результатов\n",
    "          rstate=np.random.default_rng(random_state)# фиксируем для повторяемости результата\n",
    "         )\n",
    "print(\"Наилучшие значения гиперпараметров {}\".format(best))"
   ]
  },
  {
   "cell_type": "code",
   "execution_count": 71,
   "metadata": {},
   "outputs": [
    {
     "name": "stdout",
     "output_type": "stream",
     "text": [
      "f1_score на тренировочным наборе: 0.70\n",
      "f1_score на тестовом наборе: 0.70\n"
     ]
    }
   ],
   "source": [
    "# рассчитаем точность для тестовой выборки\n",
    "model = ensemble.RandomForestClassifier(\n",
    "    random_state=random_state, \n",
    "    n_estimators=int(best['n_estimators']),\n",
    "    max_depth=int(best['max_depth']),\n",
    "    min_samples_leaf=int(best['min_samples_leaf'])\n",
    ")\n",
    "model.fit(X_train, y_train)\n",
    "\n",
    "#Делаем предсказание для тренировочной выборки\n",
    "y_train_predi = model.predict(X_train)\n",
    "#Делаем предсказание для тестовой выборки\n",
    "y_test_predi = model.predict(X_test)\n",
    " \n",
    "print('f1_score на тренировочным наборе: {:.2f}'.format(metrics.f1_score(y_train, y_train_predi)))\n",
    "print('f1_score на тестовом наборе: {:.2f}'.format(metrics.f1_score(y_test, y_test_predi)))"
   ]
  },
  {
   "cell_type": "markdown",
   "metadata": {},
   "source": [
    "*Вывод*\n",
    "\n",
    "**Метрику удалось улучшить!**\n",
    "\n",
    "Hyperopt помогает найти оптимальные гиперпараметры для модели Случайный лес. Благодаря этому можно значительно улучшить производительность модели.\n",
    "\n",
    "Это означает, что оптимальная модель Случайный лес была найдена с:\n",
    "\n",
    "- n_estimators=  132;\n",
    "- min_samples_leaf = 3;\n",
    "- max_depth =  19."
   ]
  },
  {
   "cell_type": "markdown",
   "metadata": {},
   "source": [
    "### Случайный лес с Optuna"
   ]
  },
  {
   "cell_type": "code",
   "execution_count": 72,
   "metadata": {},
   "outputs": [],
   "source": [
    "import optuna"
   ]
  },
  {
   "cell_type": "markdown",
   "metadata": {},
   "source": [
    "Настроим оптимизацию гиперпараметров для алгоритма случайного леса.\n"
   ]
  },
  {
   "cell_type": "code",
   "execution_count": 75,
   "metadata": {},
   "outputs": [],
   "source": [
    "def optuna_rfс(trial):\n",
    "  # задаем пространства поиска гиперпараметров\n",
    "  n_estimators = trial.suggest_int('n_estimators', 100, 200, 1)\n",
    "  max_depth = trial.suggest_int('max_depth', 10, 30, 1)\n",
    "  min_samples_leaf = trial.suggest_int('min_samples_leaf', 2, 10, 1)\n",
    "\n",
    "  # создаем модель\n",
    "  model = ensemble.RandomForestClassifier(n_estimators=n_estimators,\n",
    "                                          max_depth=max_depth,\n",
    "                                          min_samples_leaf=min_samples_leaf,\n",
    "                                          random_state=random_state)\n",
    "  # обучаем модель\n",
    "  model.fit(X_train, y_train)\n",
    "  score = metrics.f1_score(y_train, model.predict(X_train))\n",
    "\n",
    "  return score"
   ]
  },
  {
   "cell_type": "code",
   "execution_count": 78,
   "metadata": {},
   "outputs": [
    {
     "name": "stderr",
     "output_type": "stream",
     "text": [
      "[I 2024-12-11 14:40:02,702] A new study created in memory with name: RandomForestClassifier\n",
      "C:\\Users\\alexD\\AppData\\Local\\Temp\\ipykernel_20032\\874632992.py:3: FutureWarning: suggest_int() got {'step'} as positional arguments but they were expected to be given as keyword arguments.\n",
      "  n_estimators = trial.suggest_int('n_estimators', 100, 200, 1)\n",
      "C:\\Users\\alexD\\AppData\\Local\\Temp\\ipykernel_20032\\874632992.py:4: FutureWarning: suggest_int() got {'step'} as positional arguments but they were expected to be given as keyword arguments.\n",
      "  max_depth = trial.suggest_int('max_depth', 10, 30, 1)\n",
      "C:\\Users\\alexD\\AppData\\Local\\Temp\\ipykernel_20032\\874632992.py:5: FutureWarning: suggest_int() got {'step'} as positional arguments but they were expected to be given as keyword arguments.\n",
      "  min_samples_leaf = trial.suggest_int('min_samples_leaf', 2, 10, 1)\n",
      "[I 2024-12-11 14:40:04,628] Trial 0 finished with value: 0.6472303206997084 and parameters: {'n_estimators': 152, 'max_depth': 27, 'min_samples_leaf': 5}. Best is trial 0 with value: 0.6472303206997084.\n",
      "C:\\Users\\alexD\\AppData\\Local\\Temp\\ipykernel_20032\\874632992.py:3: FutureWarning: suggest_int() got {'step'} as positional arguments but they were expected to be given as keyword arguments.\n",
      "  n_estimators = trial.suggest_int('n_estimators', 100, 200, 1)\n",
      "C:\\Users\\alexD\\AppData\\Local\\Temp\\ipykernel_20032\\874632992.py:4: FutureWarning: suggest_int() got {'step'} as positional arguments but they were expected to be given as keyword arguments.\n",
      "  max_depth = trial.suggest_int('max_depth', 10, 30, 1)\n",
      "C:\\Users\\alexD\\AppData\\Local\\Temp\\ipykernel_20032\\874632992.py:5: FutureWarning: suggest_int() got {'step'} as positional arguments but they were expected to be given as keyword arguments.\n",
      "  min_samples_leaf = trial.suggest_int('min_samples_leaf', 2, 10, 1)\n",
      "[I 2024-12-11 14:40:05,760] Trial 1 finished with value: 0.6994141505182515 and parameters: {'n_estimators': 143, 'max_depth': 15, 'min_samples_leaf': 7}. Best is trial 1 with value: 0.6994141505182515.\n",
      "C:\\Users\\alexD\\AppData\\Local\\Temp\\ipykernel_20032\\874632992.py:3: FutureWarning: suggest_int() got {'step'} as positional arguments but they were expected to be given as keyword arguments.\n",
      "  n_estimators = trial.suggest_int('n_estimators', 100, 200, 1)\n",
      "C:\\Users\\alexD\\AppData\\Local\\Temp\\ipykernel_20032\\874632992.py:4: FutureWarning: suggest_int() got {'step'} as positional arguments but they were expected to be given as keyword arguments.\n",
      "  max_depth = trial.suggest_int('max_depth', 10, 30, 1)\n",
      "C:\\Users\\alexD\\AppData\\Local\\Temp\\ipykernel_20032\\874632992.py:5: FutureWarning: suggest_int() got {'step'} as positional arguments but they were expected to be given as keyword arguments.\n",
      "  min_samples_leaf = trial.suggest_int('min_samples_leaf', 2, 10, 1)\n",
      "[I 2024-12-11 14:40:07,272] Trial 2 finished with value: 0.6479618845950238 and parameters: {'n_estimators': 193, 'max_depth': 11, 'min_samples_leaf': 3}. Best is trial 1 with value: 0.6994141505182515.\n",
      "C:\\Users\\alexD\\AppData\\Local\\Temp\\ipykernel_20032\\874632992.py:3: FutureWarning: suggest_int() got {'step'} as positional arguments but they were expected to be given as keyword arguments.\n",
      "  n_estimators = trial.suggest_int('n_estimators', 100, 200, 1)\n",
      "C:\\Users\\alexD\\AppData\\Local\\Temp\\ipykernel_20032\\874632992.py:4: FutureWarning: suggest_int() got {'step'} as positional arguments but they were expected to be given as keyword arguments.\n",
      "  max_depth = trial.suggest_int('max_depth', 10, 30, 1)\n",
      "C:\\Users\\alexD\\AppData\\Local\\Temp\\ipykernel_20032\\874632992.py:5: FutureWarning: suggest_int() got {'step'} as positional arguments but they were expected to be given as keyword arguments.\n",
      "  min_samples_leaf = trial.suggest_int('min_samples_leaf', 2, 10, 1)\n",
      "[I 2024-12-11 14:40:08,155] Trial 3 finished with value: 0.6479618845950238 and parameters: {'n_estimators': 114, 'max_depth': 29, 'min_samples_leaf': 3}. Best is trial 1 with value: 0.6994141505182515.\n",
      "C:\\Users\\alexD\\AppData\\Local\\Temp\\ipykernel_20032\\874632992.py:3: FutureWarning: suggest_int() got {'step'} as positional arguments but they were expected to be given as keyword arguments.\n",
      "  n_estimators = trial.suggest_int('n_estimators', 100, 200, 1)\n",
      "C:\\Users\\alexD\\AppData\\Local\\Temp\\ipykernel_20032\\874632992.py:4: FutureWarning: suggest_int() got {'step'} as positional arguments but they were expected to be given as keyword arguments.\n",
      "  max_depth = trial.suggest_int('max_depth', 10, 30, 1)\n",
      "C:\\Users\\alexD\\AppData\\Local\\Temp\\ipykernel_20032\\874632992.py:5: FutureWarning: suggest_int() got {'step'} as positional arguments but they were expected to be given as keyword arguments.\n",
      "  min_samples_leaf = trial.suggest_int('min_samples_leaf', 2, 10, 1)\n",
      "[I 2024-12-11 14:40:09,355] Trial 4 finished with value: 0.6994141505182515 and parameters: {'n_estimators': 157, 'max_depth': 22, 'min_samples_leaf': 10}. Best is trial 1 with value: 0.6994141505182515.\n",
      "C:\\Users\\alexD\\AppData\\Local\\Temp\\ipykernel_20032\\874632992.py:3: FutureWarning: suggest_int() got {'step'} as positional arguments but they were expected to be given as keyword arguments.\n",
      "  n_estimators = trial.suggest_int('n_estimators', 100, 200, 1)\n",
      "C:\\Users\\alexD\\AppData\\Local\\Temp\\ipykernel_20032\\874632992.py:4: FutureWarning: suggest_int() got {'step'} as positional arguments but they were expected to be given as keyword arguments.\n",
      "  max_depth = trial.suggest_int('max_depth', 10, 30, 1)\n",
      "C:\\Users\\alexD\\AppData\\Local\\Temp\\ipykernel_20032\\874632992.py:5: FutureWarning: suggest_int() got {'step'} as positional arguments but they were expected to be given as keyword arguments.\n",
      "  min_samples_leaf = trial.suggest_int('min_samples_leaf', 2, 10, 1)\n",
      "[I 2024-12-11 14:40:10,398] Trial 5 finished with value: 0.6994141505182515 and parameters: {'n_estimators': 151, 'max_depth': 19, 'min_samples_leaf': 7}. Best is trial 1 with value: 0.6994141505182515.\n",
      "C:\\Users\\alexD\\AppData\\Local\\Temp\\ipykernel_20032\\874632992.py:3: FutureWarning: suggest_int() got {'step'} as positional arguments but they were expected to be given as keyword arguments.\n",
      "  n_estimators = trial.suggest_int('n_estimators', 100, 200, 1)\n",
      "C:\\Users\\alexD\\AppData\\Local\\Temp\\ipykernel_20032\\874632992.py:4: FutureWarning: suggest_int() got {'step'} as positional arguments but they were expected to be given as keyword arguments.\n",
      "  max_depth = trial.suggest_int('max_depth', 10, 30, 1)\n",
      "C:\\Users\\alexD\\AppData\\Local\\Temp\\ipykernel_20032\\874632992.py:5: FutureWarning: suggest_int() got {'step'} as positional arguments but they were expected to be given as keyword arguments.\n",
      "  min_samples_leaf = trial.suggest_int('min_samples_leaf', 2, 10, 1)\n",
      "[I 2024-12-11 14:40:11,992] Trial 6 finished with value: 0.7002700270027002 and parameters: {'n_estimators': 179, 'max_depth': 24, 'min_samples_leaf': 6}. Best is trial 6 with value: 0.7002700270027002.\n",
      "C:\\Users\\alexD\\AppData\\Local\\Temp\\ipykernel_20032\\874632992.py:3: FutureWarning: suggest_int() got {'step'} as positional arguments but they were expected to be given as keyword arguments.\n",
      "  n_estimators = trial.suggest_int('n_estimators', 100, 200, 1)\n",
      "C:\\Users\\alexD\\AppData\\Local\\Temp\\ipykernel_20032\\874632992.py:4: FutureWarning: suggest_int() got {'step'} as positional arguments but they were expected to be given as keyword arguments.\n",
      "  max_depth = trial.suggest_int('max_depth', 10, 30, 1)\n",
      "C:\\Users\\alexD\\AppData\\Local\\Temp\\ipykernel_20032\\874632992.py:5: FutureWarning: suggest_int() got {'step'} as positional arguments but they were expected to be given as keyword arguments.\n",
      "  min_samples_leaf = trial.suggest_int('min_samples_leaf', 2, 10, 1)\n",
      "[I 2024-12-11 14:40:13,260] Trial 7 finished with value: 0.6994141505182515 and parameters: {'n_estimators': 145, 'max_depth': 13, 'min_samples_leaf': 7}. Best is trial 6 with value: 0.7002700270027002.\n",
      "C:\\Users\\alexD\\AppData\\Local\\Temp\\ipykernel_20032\\874632992.py:3: FutureWarning: suggest_int() got {'step'} as positional arguments but they were expected to be given as keyword arguments.\n",
      "  n_estimators = trial.suggest_int('n_estimators', 100, 200, 1)\n",
      "C:\\Users\\alexD\\AppData\\Local\\Temp\\ipykernel_20032\\874632992.py:4: FutureWarning: suggest_int() got {'step'} as positional arguments but they were expected to be given as keyword arguments.\n",
      "  max_depth = trial.suggest_int('max_depth', 10, 30, 1)\n",
      "C:\\Users\\alexD\\AppData\\Local\\Temp\\ipykernel_20032\\874632992.py:5: FutureWarning: suggest_int() got {'step'} as positional arguments but they were expected to be given as keyword arguments.\n",
      "  min_samples_leaf = trial.suggest_int('min_samples_leaf', 2, 10, 1)\n",
      "[I 2024-12-11 14:40:14,540] Trial 8 finished with value: 0.6994141505182515 and parameters: {'n_estimators': 158, 'max_depth': 20, 'min_samples_leaf': 7}. Best is trial 6 with value: 0.7002700270027002.\n",
      "C:\\Users\\alexD\\AppData\\Local\\Temp\\ipykernel_20032\\874632992.py:3: FutureWarning: suggest_int() got {'step'} as positional arguments but they were expected to be given as keyword arguments.\n",
      "  n_estimators = trial.suggest_int('n_estimators', 100, 200, 1)\n",
      "C:\\Users\\alexD\\AppData\\Local\\Temp\\ipykernel_20032\\874632992.py:4: FutureWarning: suggest_int() got {'step'} as positional arguments but they were expected to be given as keyword arguments.\n",
      "  max_depth = trial.suggest_int('max_depth', 10, 30, 1)\n",
      "C:\\Users\\alexD\\AppData\\Local\\Temp\\ipykernel_20032\\874632992.py:5: FutureWarning: suggest_int() got {'step'} as positional arguments but they were expected to be given as keyword arguments.\n",
      "  min_samples_leaf = trial.suggest_int('min_samples_leaf', 2, 10, 1)\n",
      "[I 2024-12-11 14:40:15,545] Trial 9 finished with value: 0.6479618845950238 and parameters: {'n_estimators': 172, 'max_depth': 14, 'min_samples_leaf': 3}. Best is trial 6 with value: 0.7002700270027002.\n",
      "C:\\Users\\alexD\\AppData\\Local\\Temp\\ipykernel_20032\\874632992.py:3: FutureWarning: suggest_int() got {'step'} as positional arguments but they were expected to be given as keyword arguments.\n",
      "  n_estimators = trial.suggest_int('n_estimators', 100, 200, 1)\n",
      "C:\\Users\\alexD\\AppData\\Local\\Temp\\ipykernel_20032\\874632992.py:4: FutureWarning: suggest_int() got {'step'} as positional arguments but they were expected to be given as keyword arguments.\n",
      "  max_depth = trial.suggest_int('max_depth', 10, 30, 1)\n",
      "C:\\Users\\alexD\\AppData\\Local\\Temp\\ipykernel_20032\\874632992.py:5: FutureWarning: suggest_int() got {'step'} as positional arguments but they were expected to be given as keyword arguments.\n",
      "  min_samples_leaf = trial.suggest_int('min_samples_leaf', 2, 10, 1)\n",
      "[I 2024-12-11 14:40:16,424] Trial 10 finished with value: 0.6994141505182515 and parameters: {'n_estimators': 196, 'max_depth': 25, 'min_samples_leaf': 10}. Best is trial 6 with value: 0.7002700270027002.\n",
      "C:\\Users\\alexD\\AppData\\Local\\Temp\\ipykernel_20032\\874632992.py:3: FutureWarning: suggest_int() got {'step'} as positional arguments but they were expected to be given as keyword arguments.\n",
      "  n_estimators = trial.suggest_int('n_estimators', 100, 200, 1)\n",
      "C:\\Users\\alexD\\AppData\\Local\\Temp\\ipykernel_20032\\874632992.py:4: FutureWarning: suggest_int() got {'step'} as positional arguments but they were expected to be given as keyword arguments.\n",
      "  max_depth = trial.suggest_int('max_depth', 10, 30, 1)\n",
      "C:\\Users\\alexD\\AppData\\Local\\Temp\\ipykernel_20032\\874632992.py:5: FutureWarning: suggest_int() got {'step'} as positional arguments but they were expected to be given as keyword arguments.\n",
      "  min_samples_leaf = trial.suggest_int('min_samples_leaf', 2, 10, 1)\n",
      "[I 2024-12-11 14:40:17,111] Trial 11 finished with value: 0.7002700270027002 and parameters: {'n_estimators': 124, 'max_depth': 17, 'min_samples_leaf': 5}. Best is trial 6 with value: 0.7002700270027002.\n",
      "C:\\Users\\alexD\\AppData\\Local\\Temp\\ipykernel_20032\\874632992.py:3: FutureWarning: suggest_int() got {'step'} as positional arguments but they were expected to be given as keyword arguments.\n",
      "  n_estimators = trial.suggest_int('n_estimators', 100, 200, 1)\n",
      "C:\\Users\\alexD\\AppData\\Local\\Temp\\ipykernel_20032\\874632992.py:4: FutureWarning: suggest_int() got {'step'} as positional arguments but they were expected to be given as keyword arguments.\n",
      "  max_depth = trial.suggest_int('max_depth', 10, 30, 1)\n",
      "C:\\Users\\alexD\\AppData\\Local\\Temp\\ipykernel_20032\\874632992.py:5: FutureWarning: suggest_int() got {'step'} as positional arguments but they were expected to be given as keyword arguments.\n",
      "  min_samples_leaf = trial.suggest_int('min_samples_leaf', 2, 10, 1)\n",
      "[I 2024-12-11 14:40:17,709] Trial 12 finished with value: 0.7002700270027002 and parameters: {'n_estimators': 113, 'max_depth': 17, 'min_samples_leaf': 5}. Best is trial 6 with value: 0.7002700270027002.\n",
      "C:\\Users\\alexD\\AppData\\Local\\Temp\\ipykernel_20032\\874632992.py:3: FutureWarning: suggest_int() got {'step'} as positional arguments but they were expected to be given as keyword arguments.\n",
      "  n_estimators = trial.suggest_int('n_estimators', 100, 200, 1)\n",
      "C:\\Users\\alexD\\AppData\\Local\\Temp\\ipykernel_20032\\874632992.py:4: FutureWarning: suggest_int() got {'step'} as positional arguments but they were expected to be given as keyword arguments.\n",
      "  max_depth = trial.suggest_int('max_depth', 10, 30, 1)\n",
      "C:\\Users\\alexD\\AppData\\Local\\Temp\\ipykernel_20032\\874632992.py:5: FutureWarning: suggest_int() got {'step'} as positional arguments but they were expected to be given as keyword arguments.\n",
      "  min_samples_leaf = trial.suggest_int('min_samples_leaf', 2, 10, 1)\n",
      "[I 2024-12-11 14:40:18,269] Trial 13 finished with value: 0.6472303206997084 and parameters: {'n_estimators': 100, 'max_depth': 23, 'min_samples_leaf': 5}. Best is trial 6 with value: 0.7002700270027002.\n",
      "C:\\Users\\alexD\\AppData\\Local\\Temp\\ipykernel_20032\\874632992.py:3: FutureWarning: suggest_int() got {'step'} as positional arguments but they were expected to be given as keyword arguments.\n",
      "  n_estimators = trial.suggest_int('n_estimators', 100, 200, 1)\n",
      "C:\\Users\\alexD\\AppData\\Local\\Temp\\ipykernel_20032\\874632992.py:4: FutureWarning: suggest_int() got {'step'} as positional arguments but they were expected to be given as keyword arguments.\n",
      "  max_depth = trial.suggest_int('max_depth', 10, 30, 1)\n",
      "C:\\Users\\alexD\\AppData\\Local\\Temp\\ipykernel_20032\\874632992.py:5: FutureWarning: suggest_int() got {'step'} as positional arguments but they were expected to be given as keyword arguments.\n",
      "  min_samples_leaf = trial.suggest_int('min_samples_leaf', 2, 10, 1)\n",
      "[I 2024-12-11 14:40:18,902] Trial 14 finished with value: 0.7002700270027002 and parameters: {'n_estimators': 125, 'max_depth': 18, 'min_samples_leaf': 5}. Best is trial 6 with value: 0.7002700270027002.\n",
      "C:\\Users\\alexD\\AppData\\Local\\Temp\\ipykernel_20032\\874632992.py:3: FutureWarning: suggest_int() got {'step'} as positional arguments but they were expected to be given as keyword arguments.\n",
      "  n_estimators = trial.suggest_int('n_estimators', 100, 200, 1)\n",
      "C:\\Users\\alexD\\AppData\\Local\\Temp\\ipykernel_20032\\874632992.py:4: FutureWarning: suggest_int() got {'step'} as positional arguments but they were expected to be given as keyword arguments.\n",
      "  max_depth = trial.suggest_int('max_depth', 10, 30, 1)\n",
      "C:\\Users\\alexD\\AppData\\Local\\Temp\\ipykernel_20032\\874632992.py:5: FutureWarning: suggest_int() got {'step'} as positional arguments but they were expected to be given as keyword arguments.\n",
      "  min_samples_leaf = trial.suggest_int('min_samples_leaf', 2, 10, 1)\n",
      "[I 2024-12-11 14:40:19,821] Trial 15 finished with value: 0.6994141505182515 and parameters: {'n_estimators': 181, 'max_depth': 23, 'min_samples_leaf': 9}. Best is trial 6 with value: 0.7002700270027002.\n",
      "C:\\Users\\alexD\\AppData\\Local\\Temp\\ipykernel_20032\\874632992.py:3: FutureWarning: suggest_int() got {'step'} as positional arguments but they were expected to be given as keyword arguments.\n",
      "  n_estimators = trial.suggest_int('n_estimators', 100, 200, 1)\n",
      "C:\\Users\\alexD\\AppData\\Local\\Temp\\ipykernel_20032\\874632992.py:4: FutureWarning: suggest_int() got {'step'} as positional arguments but they were expected to be given as keyword arguments.\n",
      "  max_depth = trial.suggest_int('max_depth', 10, 30, 1)\n",
      "C:\\Users\\alexD\\AppData\\Local\\Temp\\ipykernel_20032\\874632992.py:5: FutureWarning: suggest_int() got {'step'} as positional arguments but they were expected to be given as keyword arguments.\n",
      "  min_samples_leaf = trial.suggest_int('min_samples_leaf', 2, 10, 1)\n",
      "[I 2024-12-11 14:40:20,516] Trial 16 finished with value: 0.7008316475612497 and parameters: {'n_estimators': 131, 'max_depth': 26, 'min_samples_leaf': 2}. Best is trial 16 with value: 0.7008316475612497.\n",
      "C:\\Users\\alexD\\AppData\\Local\\Temp\\ipykernel_20032\\874632992.py:3: FutureWarning: suggest_int() got {'step'} as positional arguments but they were expected to be given as keyword arguments.\n",
      "  n_estimators = trial.suggest_int('n_estimators', 100, 200, 1)\n",
      "C:\\Users\\alexD\\AppData\\Local\\Temp\\ipykernel_20032\\874632992.py:4: FutureWarning: suggest_int() got {'step'} as positional arguments but they were expected to be given as keyword arguments.\n",
      "  max_depth = trial.suggest_int('max_depth', 10, 30, 1)\n",
      "C:\\Users\\alexD\\AppData\\Local\\Temp\\ipykernel_20032\\874632992.py:5: FutureWarning: suggest_int() got {'step'} as positional arguments but they were expected to be given as keyword arguments.\n",
      "  min_samples_leaf = trial.suggest_int('min_samples_leaf', 2, 10, 1)\n",
      "[I 2024-12-11 14:40:21,372] Trial 17 finished with value: 0.6479618845950238 and parameters: {'n_estimators': 170, 'max_depth': 30, 'min_samples_leaf': 2}. Best is trial 16 with value: 0.7008316475612497.\n",
      "C:\\Users\\alexD\\AppData\\Local\\Temp\\ipykernel_20032\\874632992.py:3: FutureWarning: suggest_int() got {'step'} as positional arguments but they were expected to be given as keyword arguments.\n",
      "  n_estimators = trial.suggest_int('n_estimators', 100, 200, 1)\n",
      "C:\\Users\\alexD\\AppData\\Local\\Temp\\ipykernel_20032\\874632992.py:4: FutureWarning: suggest_int() got {'step'} as positional arguments but they were expected to be given as keyword arguments.\n",
      "  max_depth = trial.suggest_int('max_depth', 10, 30, 1)\n",
      "C:\\Users\\alexD\\AppData\\Local\\Temp\\ipykernel_20032\\874632992.py:5: FutureWarning: suggest_int() got {'step'} as positional arguments but they were expected to be given as keyword arguments.\n",
      "  min_samples_leaf = trial.suggest_int('min_samples_leaf', 2, 10, 1)\n",
      "[I 2024-12-11 14:40:22,036] Trial 18 finished with value: 0.6479618845950238 and parameters: {'n_estimators': 135, 'max_depth': 26, 'min_samples_leaf': 2}. Best is trial 16 with value: 0.7008316475612497.\n",
      "C:\\Users\\alexD\\AppData\\Local\\Temp\\ipykernel_20032\\874632992.py:3: FutureWarning: suggest_int() got {'step'} as positional arguments but they were expected to be given as keyword arguments.\n",
      "  n_estimators = trial.suggest_int('n_estimators', 100, 200, 1)\n",
      "C:\\Users\\alexD\\AppData\\Local\\Temp\\ipykernel_20032\\874632992.py:4: FutureWarning: suggest_int() got {'step'} as positional arguments but they were expected to be given as keyword arguments.\n",
      "  max_depth = trial.suggest_int('max_depth', 10, 30, 1)\n",
      "C:\\Users\\alexD\\AppData\\Local\\Temp\\ipykernel_20032\\874632992.py:5: FutureWarning: suggest_int() got {'step'} as positional arguments but they were expected to be given as keyword arguments.\n",
      "  min_samples_leaf = trial.suggest_int('min_samples_leaf', 2, 10, 1)\n",
      "[I 2024-12-11 14:40:22,934] Trial 19 finished with value: 0.6994141505182515 and parameters: {'n_estimators': 182, 'max_depth': 27, 'min_samples_leaf': 8}. Best is trial 16 with value: 0.7008316475612497.\n"
     ]
    },
    {
     "name": "stdout",
     "output_type": "stream",
     "text": [
      "Наилучшие значения гиперпараметров {'n_estimators': 131, 'max_depth': 26, 'min_samples_leaf': 2}\n",
      "CPU times: total: 13 s\n",
      "Wall time: 20.2 s\n"
     ]
    }
   ],
   "source": [
    "%%time\n",
    "# cоздаем объект исследования\n",
    "# можем напрямую указать, что нам необходимо максимизировать метрику direction=\"maximize\"\n",
    "study = optuna.create_study(study_name=\"RandomForestClassifier\", direction=\"maximize\")\n",
    "# ищем лучшую комбинацию гиперпараметров n_trials раз\n",
    "study.optimize(optuna_rfс, n_trials=20)\n",
    "\n",
    "# выводим результаты Наилучшие значения гиперпараметров\n",
    "print(\"Наилучшие значения гиперпараметров {}\".format(study.best_params))"
   ]
  },
  {
   "cell_type": "code",
   "execution_count": 79,
   "metadata": {},
   "outputs": [
    {
     "name": "stdout",
     "output_type": "stream",
     "text": [
      "f1_score на тренировочным наборе: 0.70\n",
      "f1_score на тестовом наборе: 0.70\n"
     ]
    }
   ],
   "source": [
    "# рассчитаем точность для тестовой выборки и обучающей выборке\n",
    "model = ensemble.RandomForestClassifier(**study.best_params,random_state=random_state, )\n",
    "\n",
    "model.fit(X_train, y_train)\n",
    "\n",
    "#Делаем предсказание для тренировочной выборки\n",
    "y_train_pr = model.predict(X_train)\n",
    "#Делаем предсказание для тестовой выборки\n",
    "y_test_pr = model.predict(X_test)\n",
    " \n",
    "print('f1_score на тренировочным наборе: {:.2f}'.format(metrics.f1_score(y_train, y_train_pr)))\n",
    "print('f1_score на тестовом наборе: {:.2f}'.format(metrics.f1_score(y_test, y_test_pr)))"
   ]
  },
  {
   "cell_type": "markdown",
   "metadata": {},
   "source": [
    "*Вывод*\n",
    "\n",
    "**Метрику удалось улучшить!**\n",
    "\n",
    "Optuna помогает найти оптимальные гиперпараметры для модели Случайный лес. Благодаря этому можно значительно улучшить производительность модели.\n",
    "\n",
    "Это означает, что оптимальная модель Случайный лес была найдена с:\n",
    "\n",
    "- n_estimators=  131;\n",
    "- min_samples_leaf = 2;\n",
    "- max_depth =  26."
   ]
  }
 ],
 "metadata": {
  "kernelspec": {
   "display_name": "Python 3",
   "language": "python",
   "name": "python3"
  },
  "language_info": {
   "codemirror_mode": {
    "name": "ipython",
    "version": 3
   },
   "file_extension": ".py",
   "mimetype": "text/x-python",
   "name": "python",
   "nbconvert_exporter": "python",
   "pygments_lexer": "ipython3",
   "version": "3.11.2"
  }
 },
 "nbformat": 4,
 "nbformat_minor": 2
}
